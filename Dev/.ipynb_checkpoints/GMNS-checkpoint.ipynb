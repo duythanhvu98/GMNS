{
 "cells": [
  {
   "cell_type": "code",
   "execution_count": 4,
   "metadata": {},
   "outputs": [],
   "source": [
    "import numpy as np\n",
    "import matplotlib.pyplot as plt\n",
    "from numpy import linalg as LA\n",
    "from scipy.linalg import orth\n"
   ]
  },
  {
   "cell_type": "code",
   "execution_count": 5,
   "metadata": {},
   "outputs": [
    {
     "ename": "UnboundLocalError",
     "evalue": "local variable 'W1' referenced before assignment",
     "output_type": "error",
     "traceback": [
      "\u001b[0;31m---------------------------------------------------------------------------\u001b[0m",
      "\u001b[0;31mUnboundLocalError\u001b[0m                         Traceback (most recent call last)",
      "\u001b[0;32m<ipython-input-5-5b3aef171eee>\u001b[0m in \u001b[0;36m<module>\u001b[0;34m()\u001b[0m\n\u001b[1;32m      4\u001b[0m \u001b[0mN\u001b[0m \u001b[0;34m=\u001b[0m \u001b[0mnp\u001b[0m\u001b[0;34m.\u001b[0m\u001b[0mrandom\u001b[0m\u001b[0;34m.\u001b[0m\u001b[0mrand\u001b[0m\u001b[0;34m(\u001b[0m\u001b[0mn\u001b[0m\u001b[0;34m,\u001b[0m\u001b[0mT\u001b[0m\u001b[0;34m)\u001b[0m\u001b[0;34m;\u001b[0m\u001b[0;34m\u001b[0m\u001b[0m\n\u001b[1;32m      5\u001b[0m \u001b[0mX\u001b[0m \u001b[0;34m=\u001b[0m \u001b[0mA\u001b[0m\u001b[0;34m*\u001b[0m\u001b[0mS\u001b[0m \u001b[0;34m+\u001b[0m \u001b[0mN\u001b[0m\u001b[0;34m;\u001b[0m\u001b[0;34m\u001b[0m\u001b[0m\n\u001b[0;32m----> 6\u001b[0;31m \u001b[0mGMNS_PSA\u001b[0m\u001b[0;34m(\u001b[0m\u001b[0mX\u001b[0m\u001b[0;34m,\u001b[0m\u001b[0mp\u001b[0m\u001b[0;34m)\u001b[0m\u001b[0;34m\u001b[0m\u001b[0m\n\u001b[0m",
      "\u001b[0;32m<ipython-input-2-52d8c47a723e>\u001b[0m in \u001b[0;36mGMNS_PSA\u001b[0;34m(X, p)\u001b[0m\n\u001b[1;32m      8\u001b[0m     \u001b[0mW_exact\u001b[0m \u001b[0;34m=\u001b[0m \u001b[0mnp\u001b[0m\u001b[0;34m.\u001b[0m\u001b[0mmatrix\u001b[0m\u001b[0;34m(\u001b[0m\u001b[0morth\u001b[0m\u001b[0;34m(\u001b[0m\u001b[0mX\u001b[0m\u001b[0;34m)\u001b[0m\u001b[0;34m)\u001b[0m\u001b[0;34m\u001b[0m\u001b[0m\n\u001b[1;32m      9\u001b[0m     \u001b[0;31m#print(\"W_exact: \" +str(W_exact.shape))\u001b[0m\u001b[0;34m\u001b[0m\u001b[0;34m\u001b[0m\u001b[0m\n\u001b[0;32m---> 10\u001b[0;31m     \u001b[0mprint\u001b[0m\u001b[0;34m(\u001b[0m\u001b[0mW1\u001b[0m\u001b[0;34m)\u001b[0m\u001b[0;34m\u001b[0m\u001b[0m\n\u001b[0m\u001b[1;32m     11\u001b[0m \u001b[0;34m\u001b[0m\u001b[0m\n\u001b[1;32m     12\u001b[0m     \u001b[0;31m# 2 Subsystem\u001b[0m\u001b[0;34m\u001b[0m\u001b[0;34m\u001b[0m\u001b[0m\n",
      "\u001b[0;31mUnboundLocalError\u001b[0m: local variable 'W1' referenced before assignment"
     ]
    }
   ],
   "source": [
    "#Initial X\n",
    "n=8;p=3;k = 2; d = int(n/k);T = 100;\n",
    "A = np.matrix(np.random.rand(n,p)); S = np.matrix(np.random.rand(p,T))\n",
    "N = np.random.rand(n,T);\n",
    "X = A*S + N;\n",
    "GMNS_PSA(X,p)"
   ]
  },
  {
   "cell_type": "code",
   "execution_count": null,
   "metadata": {},
   "outputs": [],
   "source": [
    "#Create k sequences\n",
    "XX = []\n",
    "def create_sequence(X, k):\n",
    "    n = X.shape[0]; T = X.shape[1];\n",
    "    for i in range(k):\n",
    "        # n = k*r+d\n",
    "        print(i)\n",
    "        r = int(n/k)\n",
    "        XX.append(np.matrix(X[(i*k)%n:(i*k+r+1),:]))\n",
    "    return XX"
   ]
  },
  {
   "cell_type": "code",
   "execution_count": 2,
   "metadata": {},
   "outputs": [],
   "source": [
    "\n",
    "\n",
    "#General Minimum Noise Subspace\n",
    "def GMNS_PSA(X,p):\n",
    "    \n",
    "    \n",
    "    #The exact subspace\n",
    "    W_exact = np.matrix(orth(X))\n",
    "    #print(\"W_exact: \" +str(W_exact.shape))\n",
    "    \n",
    "    # 2 Subsystem\n",
    "    XX = create_sequence(X,k)\n",
    "    W = []\n",
    "    T = []\n",
    "    lamda = []\n",
    "    S1 = W1.T*XX[1]\n",
    "    for i in range(1,k):\n",
    "        Ri = 1/T*XX[i]*XX[i].T\n",
    "        lamda_i, Wi = LA.eig(Ri)\n",
    "        lamda.append(lamda_i)\n",
    "        Wi = Wi[:,:p]\n",
    "        W.append(Wi)\n",
    "        Si = Wi.T*XX[i];\n",
    "        Ti = Si*S1.T\n",
    "        T.append(Ti)\n",
    "        \n",
    "\n",
    "    #W1 \n",
    "    \n",
    "    #W = np.matrix(np.concatenate(((W1*T1).T,(W2*T2).T), axis = 1).T)\n",
    "    W = np.matrix(np.concatenate((W1.T,(W2*T2).T), axis = 1).T)\n",
    "    #print(\"W_es: \" +str(W.shape))\n",
    "\n",
    "\n",
    "    #Compare\n",
    "    TS = np.trace(W.T * (np.eye(n) - W_exact *W_exact.T) * W)\n",
    "    MS = np.trace(W.T * (W_exact * W_exact.T) * W)\n",
    "    SEP = TS/MS\n",
    "    print(\"SEP: \"+ str(SEP))\n",
    "\n",
    "\n",
    "    #PCA \n",
    "    Rxx = X*X.T\n",
    "    lamda, Us = LA.eig(W.T*Rxx*W)\n",
    "    print(\"lamda estimate:\"+ str(lamda))\n",
    "    return W\n",
    "\n",
    "\n",
    "\n",
    "\n",
    "################################################Test \n"
   ]
  }
 ],
 "metadata": {
  "kernelspec": {
   "display_name": "Python 3",
   "language": "python",
   "name": "python3"
  },
  "language_info": {
   "codemirror_mode": {
    "name": "ipython",
    "version": 3
   },
   "file_extension": ".py",
   "mimetype": "text/x-python",
   "name": "python",
   "nbconvert_exporter": "python",
   "pygments_lexer": "ipython3",
   "version": "3.6.5"
  }
 },
 "nbformat": 4,
 "nbformat_minor": 2
}
